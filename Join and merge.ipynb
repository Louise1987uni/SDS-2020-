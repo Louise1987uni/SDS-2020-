{
  "nbformat": 4,
  "nbformat_minor": 0,
  "metadata": {
    "kernelspec": {
      "display_name": "R",
      "language": "R",
      "name": "ir"
    },
    "language_info": {
      "codemirror_mode": "r",
      "file_extension": ".r",
      "mimetype": "text/x-r-source",
      "name": "R",
      "pygments_lexer": "r",
      "version": "3.3.1"
    },
    "colab": {
      "name": "Copy of M1_DS_basics_R_group_merge.ipynb",
      "provenance": [],
      "collapsed_sections": [],
      "include_colab_link": true
    }
  },
  "cells": [
    {
      "cell_type": "markdown",
      "metadata": {
        "id": "view-in-github",
        "colab_type": "text"
      },
      "source": [
        "<a href=\"https://colab.research.google.com/github/Louise1987uni/SDS-2020-/blob/master/Join%20and%20merge.ipynb\" target=\"_parent\"><img src=\"https://colab.research.google.com/assets/colab-badge.svg\" alt=\"Open In Colab\"/></a>"
      ]
    },
    {
      "cell_type": "markdown",
      "metadata": {
        "id": "SxQ2akRHItfw",
        "colab_type": "text"
      },
      "source": [
        "# M1: Data Science Basics: Groupby & Join (merge)\n",
        "\n",
        "in this tutorial I'm using the [MovieLens 100k data](https://) to demonstrate different data manipulation techniques\n",
        "It builds on the by Kevin Markham found here: https://github.com/justmarkham/pandas-videos/blob/master/pandas_merge.ipynb\n",
        "\n",
        "\n",
        "Out task is to calculate the average rating as well as number of ratings for a movie and add this information to the movies-dataframe"
      ]
    },
    {
      "cell_type": "code",
      "metadata": {
        "id": "656HIba9B56n",
        "colab_type": "code",
        "colab": {
          "base_uri": "https://localhost:8080/",
          "height": 442
        },
        "outputId": "92443672-2c38-436b-df67-ef2d2fc04390"
      },
      "source": [
        "# Load standard packages\n",
        "library(tidyverse) # DS ecosystem\n",
        "library(magrittr) # Advanced piping"
      ],
      "execution_count": 1,
      "outputs": [
        {
          "output_type": "stream",
          "text": [
            "── \u001b[1mAttaching packages\u001b[22m ─────────────────────────────────────── tidyverse 1.3.0 ──\n",
            "\n",
            "\u001b[32m✔\u001b[39m \u001b[34mggplot2\u001b[39m 3.3.2     \u001b[32m✔\u001b[39m \u001b[34mpurrr  \u001b[39m 0.3.4\n",
            "\u001b[32m✔\u001b[39m \u001b[34mtibble \u001b[39m 3.0.3     \u001b[32m✔\u001b[39m \u001b[34mdplyr  \u001b[39m 1.0.2\n",
            "\u001b[32m✔\u001b[39m \u001b[34mtidyr  \u001b[39m 1.1.1     \u001b[32m✔\u001b[39m \u001b[34mstringr\u001b[39m 1.4.0\n",
            "\u001b[32m✔\u001b[39m \u001b[34mreadr  \u001b[39m 1.3.1     \u001b[32m✔\u001b[39m \u001b[34mforcats\u001b[39m 0.5.0\n",
            "\n",
            "── \u001b[1mConflicts\u001b[22m ────────────────────────────────────────── tidyverse_conflicts() ──\n",
            "\u001b[31m✖\u001b[39m \u001b[34mdplyr\u001b[39m::\u001b[32mfilter()\u001b[39m masks \u001b[34mstats\u001b[39m::filter()\n",
            "\u001b[31m✖\u001b[39m \u001b[34mdplyr\u001b[39m::\u001b[32mlag()\u001b[39m    masks \u001b[34mstats\u001b[39m::lag()\n",
            "\n",
            "\n",
            "Attaching package: ‘magrittr’\n",
            "\n",
            "\n",
            "The following object is masked from ‘package:purrr’:\n",
            "\n",
            "    set_names\n",
            "\n",
            "\n",
            "The following object is masked from ‘package:tidyr’:\n",
            "\n",
            "    extract\n",
            "\n",
            "\n"
          ],
          "name": "stderr"
        }
      ]
    },
    {
      "cell_type": "code",
      "metadata": {
        "id": "p_WhOVv3Wup5",
        "colab_type": "code",
        "colab": {
          "base_uri": "https://localhost:8080/",
          "height": 306
        },
        "outputId": "40f8f9e5-d9d5-4b35-f9ef-0b30871d029a"
      },
      "source": [
        "# Load movies\n",
        "movies <- read_delim('https://raw.githubusercontent.com/justmarkham/pandas-videos/master/data/u.item', \n",
        "                   delim = '|',\n",
        "                   col_names = c('movie_id', 'title'))\n",
        "                   # Warning beskeden: Den fandt 24 kolonner, men her er der kun specificeret 2. Den advarer,\n",
        "                   # men dropper bare de resterende 22 kolonner."
      ],
      "execution_count": 2,
      "outputs": [
        {
          "output_type": "stream",
          "text": [
            "Parsed with column specification:\n",
            "cols(\n",
            "  movie_id = \u001b[32mcol_double()\u001b[39m,\n",
            "  title = \u001b[31mcol_character()\u001b[39m\n",
            ")\n",
            "\n",
            "Warning message:\n",
            "“1682 parsing failures.\n",
            "row col  expected     actual                                                                             file\n",
            "  1  -- 2 columns 24 columns 'https://raw.githubusercontent.com/justmarkham/pandas-videos/master/data/u.item'\n",
            "  2  -- 2 columns 24 columns 'https://raw.githubusercontent.com/justmarkham/pandas-videos/master/data/u.item'\n",
            "  3  -- 2 columns 24 columns 'https://raw.githubusercontent.com/justmarkham/pandas-videos/master/data/u.item'\n",
            "  4  -- 2 columns 24 columns 'https://raw.githubusercontent.com/justmarkham/pandas-videos/master/data/u.item'\n",
            "  5  -- 2 columns 24 columns 'https://raw.githubusercontent.com/justmarkham/pandas-videos/master/data/u.item'\n",
            "... ... ......... .......... ................................................................................\n",
            "See problems(...) for more details.\n",
            "”\n"
          ],
          "name": "stderr"
        }
      ]
    },
    {
      "cell_type": "code",
      "metadata": {
        "id": "4J1O4XqSWzwH",
        "colab_type": "code",
        "colab": {
          "base_uri": "https://localhost:8080/",
          "height": 204
        },
        "outputId": "c9f4efa0-eca6-46e9-dde3-435b8b1f318c"
      },
      "source": [
        "# First inspection\n",
        "movies %>% head()"
      ],
      "execution_count": 3,
      "outputs": [
        {
          "output_type": "display_data",
          "data": {
            "text/plain": [
              "  movie_id title                                               \n",
              "1 1        Toy Story (1995)                                    \n",
              "2 2        GoldenEye (1995)                                    \n",
              "3 3        Four Rooms (1995)                                   \n",
              "4 4        Get Shorty (1995)                                   \n",
              "5 5        Copycat (1995)                                      \n",
              "6 6        Shanghai Triad (Yao a yao yao dao waipo qiao) (1995)"
            ],
            "text/latex": "A tibble: 6 × 2\n\\begin{tabular}{ll}\n movie\\_id & title\\\\\n <dbl> & <chr>\\\\\n\\hline\n\t 1 & Toy Story (1995)                                    \\\\\n\t 2 & GoldenEye (1995)                                    \\\\\n\t 3 & Four Rooms (1995)                                   \\\\\n\t 4 & Get Shorty (1995)                                   \\\\\n\t 5 & Copycat (1995)                                      \\\\\n\t 6 & Shanghai Triad (Yao a yao yao dao waipo qiao) (1995)\\\\\n\\end{tabular}\n",
            "text/markdown": "\nA tibble: 6 × 2\n\n| movie_id &lt;dbl&gt; | title &lt;chr&gt; |\n|---|---|\n| 1 | Toy Story (1995)                                     |\n| 2 | GoldenEye (1995)                                     |\n| 3 | Four Rooms (1995)                                    |\n| 4 | Get Shorty (1995)                                    |\n| 5 | Copycat (1995)                                       |\n| 6 | Shanghai Triad (Yao a yao yao dao waipo qiao) (1995) |\n\n",
            "text/html": [
              "<table>\n",
              "<caption>A tibble: 6 × 2</caption>\n",
              "<thead>\n",
              "\t<tr><th scope=col>movie_id</th><th scope=col>title</th></tr>\n",
              "\t<tr><th scope=col>&lt;dbl&gt;</th><th scope=col>&lt;chr&gt;</th></tr>\n",
              "</thead>\n",
              "<tbody>\n",
              "\t<tr><td>1</td><td>Toy Story (1995)                                    </td></tr>\n",
              "\t<tr><td>2</td><td>GoldenEye (1995)                                    </td></tr>\n",
              "\t<tr><td>3</td><td>Four Rooms (1995)                                   </td></tr>\n",
              "\t<tr><td>4</td><td>Get Shorty (1995)                                   </td></tr>\n",
              "\t<tr><td>5</td><td>Copycat (1995)                                      </td></tr>\n",
              "\t<tr><td>6</td><td>Shanghai Triad (Yao a yao yao dao waipo qiao) (1995)</td></tr>\n",
              "</tbody>\n",
              "</table>\n"
            ]
          },
          "metadata": {
            "tags": []
          }
        }
      ]
    },
    {
      "cell_type": "code",
      "metadata": {
        "id": "KevuzpFJW4fU",
        "colab_type": "code",
        "colab": {
          "base_uri": "https://localhost:8080/",
          "height": 34
        },
        "outputId": "ad8d8ff5-3154-4398-c837-c0904fe84739"
      },
      "source": [
        "# Number of unique movie IDs\n",
        "movies %>% n_distinct('movie_id') # n_destinct giver antallet af forskellige movie_id"
      ],
      "execution_count": 4,
      "outputs": [
        {
          "output_type": "display_data",
          "data": {
            "text/plain": [
              "[1] 1682"
            ],
            "text/latex": "1682",
            "text/markdown": "1682",
            "text/html": [
              "1682"
            ]
          },
          "metadata": {
            "tags": []
          }
        }
      ]
    },
    {
      "cell_type": "code",
      "metadata": {
        "id": "z5xDwDyeW92m",
        "colab_type": "code",
        "colab": {
          "base_uri": "https://localhost:8080/",
          "height": 153
        },
        "outputId": "11ad900d-5127-42a8-f347-e06241b3a144"
      },
      "source": [
        "# Loading ratings - en anden data source end den første.\n",
        "ratings <- read_delim('https://github.com/justmarkham/pandas-videos/raw/master/data/u.data', \n",
        "                   delim = '\\t',\n",
        "                   col_names = c('user_id', 'movie_id', 'rating', 'timestamp'))"
      ],
      "execution_count": 5,
      "outputs": [
        {
          "output_type": "stream",
          "text": [
            "Parsed with column specification:\n",
            "cols(\n",
            "  user_id = \u001b[32mcol_double()\u001b[39m,\n",
            "  movie_id = \u001b[32mcol_double()\u001b[39m,\n",
            "  rating = \u001b[32mcol_double()\u001b[39m,\n",
            "  timestamp = \u001b[32mcol_double()\u001b[39m\n",
            ")\n",
            "\n"
          ],
          "name": "stderr"
        }
      ]
    },
    {
      "cell_type": "code",
      "metadata": {
        "id": "oc8CgTj5XDQD",
        "colab_type": "code",
        "colab": {
          "base_uri": "https://localhost:8080/",
          "height": 204
        },
        "outputId": "e19fd995-d5c0-4a4c-dc1f-9749e1ea7d20"
      },
      "source": [
        "ratings %>% head()"
      ],
      "execution_count": 6,
      "outputs": [
        {
          "output_type": "display_data",
          "data": {
            "text/plain": [
              "  user_id movie_id rating timestamp\n",
              "1 196     242      3      881250949\n",
              "2 186     302      3      891717742\n",
              "3  22     377      1      878887116\n",
              "4 244      51      2      880606923\n",
              "5 166     346      1      886397596\n",
              "6 298     474      4      884182806"
            ],
            "text/latex": "A tibble: 6 × 4\n\\begin{tabular}{llll}\n user\\_id & movie\\_id & rating & timestamp\\\\\n <dbl> & <dbl> & <dbl> & <dbl>\\\\\n\\hline\n\t 196 & 242 & 3 & 881250949\\\\\n\t 186 & 302 & 3 & 891717742\\\\\n\t  22 & 377 & 1 & 878887116\\\\\n\t 244 &  51 & 2 & 880606923\\\\\n\t 166 & 346 & 1 & 886397596\\\\\n\t 298 & 474 & 4 & 884182806\\\\\n\\end{tabular}\n",
            "text/markdown": "\nA tibble: 6 × 4\n\n| user_id &lt;dbl&gt; | movie_id &lt;dbl&gt; | rating &lt;dbl&gt; | timestamp &lt;dbl&gt; |\n|---|---|---|---|\n| 196 | 242 | 3 | 881250949 |\n| 186 | 302 | 3 | 891717742 |\n|  22 | 377 | 1 | 878887116 |\n| 244 |  51 | 2 | 880606923 |\n| 166 | 346 | 1 | 886397596 |\n| 298 | 474 | 4 | 884182806 |\n\n",
            "text/html": [
              "<table>\n",
              "<caption>A tibble: 6 × 4</caption>\n",
              "<thead>\n",
              "\t<tr><th scope=col>user_id</th><th scope=col>movie_id</th><th scope=col>rating</th><th scope=col>timestamp</th></tr>\n",
              "\t<tr><th scope=col>&lt;dbl&gt;</th><th scope=col>&lt;dbl&gt;</th><th scope=col>&lt;dbl&gt;</th><th scope=col>&lt;dbl&gt;</th></tr>\n",
              "</thead>\n",
              "<tbody>\n",
              "\t<tr><td>196</td><td>242</td><td>3</td><td>881250949</td></tr>\n",
              "\t<tr><td>186</td><td>302</td><td>3</td><td>891717742</td></tr>\n",
              "\t<tr><td> 22</td><td>377</td><td>1</td><td>878887116</td></tr>\n",
              "\t<tr><td>244</td><td> 51</td><td>2</td><td>880606923</td></tr>\n",
              "\t<tr><td>166</td><td>346</td><td>1</td><td>886397596</td></tr>\n",
              "\t<tr><td>298</td><td>474</td><td>4</td><td>884182806</td></tr>\n",
              "</tbody>\n",
              "</table>\n"
            ]
          },
          "metadata": {
            "tags": []
          }
        }
      ]
    },
    {
      "cell_type": "code",
      "metadata": {
        "id": "GntceXStXGQe",
        "colab_type": "code",
        "colab": {
          "base_uri": "https://localhost:8080/",
          "height": 34
        },
        "outputId": "32f0b34e-358e-4f66-994b-b46e04e256d3"
      },
      "source": [
        "ratings %>% n_distinct('movie_id')"
      ],
      "execution_count": 7,
      "outputs": [
        {
          "output_type": "display_data",
          "data": {
            "text/plain": [
              "[1] 100000"
            ],
            "text/latex": "100000",
            "text/markdown": "100000",
            "text/html": [
              "100000"
            ]
          },
          "metadata": {
            "tags": []
          }
        }
      ]
    },
    {
      "cell_type": "code",
      "metadata": {
        "id": "Y7chrrudXIaT",
        "colab_type": "code",
        "colab": {}
      },
      "source": [
        "# Average movie ratings\n",
        "ratings_mean <- ratings %>%\n",
        "  group_by(movie_id) %>%\n",
        "  summarise(rating_mean = mean(rating, na.rm = TRUE) %>% round(2),\n",
        "            rating_n = n()) %>%\n",
        "  arrange(desc(rating_mean)) "
      ],
      "execution_count": null,
      "outputs": []
    },
    {
      "cell_type": "code",
      "metadata": {
        "id": "gUCDJnThXM12",
        "colab_type": "code",
        "colab": {}
      },
      "source": [
        "ratings_mean %>% head()"
      ],
      "execution_count": null,
      "outputs": []
    },
    {
      "cell_type": "code",
      "metadata": {
        "id": "ziI0jZelXSKh",
        "colab_type": "code",
        "colab": {}
      },
      "source": [
        "# Join the average ratings with the movies dataframe\n",
        "movies %<>% left_join(ratings_mean, by = 'movie_id')"
      ],
      "execution_count": null,
      "outputs": []
    },
    {
      "cell_type": "code",
      "metadata": {
        "id": "ed5sca0gXfOd",
        "colab_type": "code",
        "colab": {}
      },
      "source": [
        "movies %>% head()"
      ],
      "execution_count": null,
      "outputs": []
    },
    {
      "cell_type": "markdown",
      "metadata": {
        "id": "0nB3JF6JXr4D",
        "colab_type": "text"
      },
      "source": [
        "# Your Turn\n",
        "- What is the movie with the highest rating when we only consider movies that at least got a \"reasonable\" number of ratings (e.g. > 25th percentile)\n",
        "- However, older movies had more chances to get ratings. What could be done to remedy this problem.\n",
        "- Can you identify super-raters?\n",
        "- Are some users perhaps too critical or way to positive (outliers)? Perhaps, we should filter out their reviews?\n",
        "- What other questions can you come up with? Try to find 2-3 others and solve them.\n",
        "\n",
        "## Extended homework\n",
        "\n",
        "Using this data: https://github.com/fivethirtyeight/data/blob/master/alcohol-consumption/drinks.csv about alcohol consuption worldwide (per capita) for 2010.\n",
        "You can read the article based on the data here: [Dear Mona Followup: Where Do People Drink The Most Beer, Wine And Spirits?](https://fivethirtyeight.com/features/dear-mona-followup-where-do-people-drink-the-most-beer-wine-and-spirits/)\n",
        "\n",
        "\n",
        "Try to calculate the total consuption numbers, multiplying the per capita figures with the population of the countries in 2010\n",
        "https://github.com/datasets/population/blob/master/data/population.csv\n",
        "\n",
        "In R you can use the Contrycode package (https://github.com/vincentarelbundock/countrycode) to turn contry names into codes for more precise merging (contry-names are often written in various ways)\n",
        "\n",
        "Install it from github via 'remotes::install_github('vincentarelbundock/countrycode')'\n",
        "\n"
      ]
    },
    {
      "cell_type": "code",
      "metadata": {
        "id": "s5QRSQTJYBBE",
        "colab_type": "code",
        "colab": {}
      },
      "source": [
        ""
      ],
      "execution_count": null,
      "outputs": []
    }
  ]
}